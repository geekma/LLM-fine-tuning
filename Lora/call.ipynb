{
 "cells": [
  {
   "cell_type": "code",
   "execution_count": 1,
   "id": "0d0818c6-62e8-4bbd-9313-6fb5c8a3bb90",
   "metadata": {
    "ExecutionIndicator": {
     "show": false
    },
    "execution": {
     "iopub.execute_input": "2025-08-26T08:50:34.116413Z",
     "iopub.status.busy": "2025-08-26T08:50:34.116150Z",
     "iopub.status.idle": "2025-08-26T08:51:07.855610Z",
     "shell.execute_reply": "2025-08-26T08:51:07.855189Z",
     "shell.execute_reply.started": "2025-08-26T08:50:34.116398Z"
    },
    "tags": []
   },
   "outputs": [
    {
     "name": "stdout",
     "output_type": "stream",
     "text": [
      "正在加载分词器 from output/checkpoint-1084...\n",
      "正在加载模型 from output/checkpoint-1084...\n"
     ]
    },
    {
     "name": "stderr",
     "output_type": "stream",
     "text": [
      "2025-08-26 16:50:39.921365: I tensorflow/core/util/port.cc:113] oneDNN custom operations are on. You may see slightly different numerical results due to floating-point round-off errors from different computation orders. To turn them off, set the environment variable `TF_ENABLE_ONEDNN_OPTS=0`.\n",
      "2025-08-26 16:50:40.859290: I tensorflow/core/platform/cpu_feature_guard.cc:210] This TensorFlow binary is optimized to use available CPU instructions in performance-critical operations.\n",
      "To enable the following instructions: AVX2 AVX512F AVX512_VNNI FMA, in other operations, rebuild TensorFlow with the appropriate compiler flags.\n",
      "2025-08-26 16:50:42.245495: W tensorflow/compiler/tf2tensorrt/utils/py_utils.cc:38] TF-TRT Warning: Could not find TensorRT\n"
     ]
    },
    {
     "name": "stdout",
     "output_type": "stream",
     "text": [
      "模型加载完成！\n"
     ]
    },
    {
     "name": "stdin",
     "output_type": "stream",
     "text": [
      "\n",
      "请输入患者问题 (输入 '退出' 结束):  退出\n"
     ]
    },
    {
     "name": "stdout",
     "output_type": "stream",
     "text": [
      "程序已结束。\n"
     ]
    }
   ],
   "source": [
    "import torch\n",
    "from transformers import AutoModelForCausalLM, AutoTokenizer\n",
    "\n",
    "# 指定模型路径\n",
    "model_path = \"./output/final_model/qwen-medical-qlora-lr0.0001-bs32-r16\"\n",
    "\n",
    "# ================================\n",
    "# 1. 加载分词器 & 模型\n",
    "# ================================\n",
    "print(f\"正在加载分词器 from {model_path}...\")\n",
    "tokenizer = AutoTokenizer.from_pretrained(\n",
    "    model_path,\n",
    "    trust_remote_code=True,\n",
    "    local_files_only=True\n",
    ")\n",
    "\n",
    "print(f\"正在加载模型 from {model_path}...\")\n",
    "model = AutoModelForCausalLM.from_pretrained(\n",
    "    model_path,\n",
    "    trust_remote_code=True,\n",
    "    local_files_only=True\n",
    ")\n",
    "print(\"模型加载完成！\")\n",
    "\n",
    "# ================================\n",
    "# 2. 定义预测函数\n",
    "# ================================\n",
    "def predict(text: str) -> str:\n",
    "    print(\"正在生成医学专家报告...\")\n",
    "    model_inputs = tokenizer([text], return_tensors=\"pt\").to(model.device)\n",
    "\n",
    "    generated_ids = model.generate(\n",
    "        **model_inputs,\n",
    "        max_new_tokens=600,\n",
    "        do_sample=True,\n",
    "        temperature=0.7,\n",
    "        top_p=0.9\n",
    "    )\n",
    "\n",
    "    return tokenizer.decode(generated_ids[0], skip_special_tokens=True)\n",
    "\n",
    "# ================================\n",
    "# 3. 格式化输出为医学报告\n",
    "# ================================\n",
    "def format_report(question: str, raw_answer: str) -> str:\n",
    "    \"\"\"\n",
    "    将模型回答包装成医学专家报告\n",
    "    \"\"\"\n",
    "    report = f\"\"\"\n",
    "# 🩺 医学专家报告\n",
    "\n",
    "**患者问题**  \n",
    "{question}\n",
    "\n",
    "**专家思考**  \n",
    "{raw_answer}\n",
    "\n",
    "**医学机制**  \n",
    "（模型需要解释相关遗传、病理或生理机制）\n",
    "\n",
    "**临床建议**  \n",
    "（模型需要总结简明结论，并给出是否需要就医的建议）\n",
    "\"\"\"\n",
    "    return report.strip()\n",
    "\n",
    "# ================================\n",
    "# 4. 主程序：交互输入 + 报告输出\n",
    "# ================================\n",
    "if __name__ == \"__main__\":\n",
    "    while True:\n",
    "        user_input = input(\"\\n请输入患者问题 (输入 '退出' 结束): \").strip()\n",
    "        if user_input.lower() in [\"退出\", \"exit\", \"quit\"]:\n",
    "            print(\"程序已结束。\")\n",
    "            break\n",
    "\n",
    "        raw_answer = predict(user_input)\n",
    "        report = format_report(user_input, raw_answer)\n",
    "\n",
    "        print(\"\\n================= 医学专家报告 =================\")\n",
    "        print(report)\n",
    "        print(\"================================================\")"
   ]
  },
  {
   "cell_type": "code",
   "execution_count": null,
   "id": "8f8b559c-d09a-41e4-ba08-acc269d49323",
   "metadata": {},
   "outputs": [],
   "source": []
  }
 ],
 "metadata": {
  "kernelspec": {
   "display_name": "Python 3 (ipykernel)",
   "language": "python",
   "name": "python3"
  },
  "language_info": {
   "codemirror_mode": {
    "name": "ipython",
    "version": 3
   },
   "file_extension": ".py",
   "mimetype": "text/x-python",
   "name": "python",
   "nbconvert_exporter": "python",
   "pygments_lexer": "ipython3",
   "version": "3.11.11"
  }
 },
 "nbformat": 4,
 "nbformat_minor": 5
}
